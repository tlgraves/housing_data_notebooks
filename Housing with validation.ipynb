{
 "cells": [
  {
   "cell_type": "code",
   "execution_count": 1,
   "metadata": {
    "collapsed": true
   },
   "outputs": [],
   "source": [
    "# In this example we'll split the data into a trianing set and a validation set\n",
    "# so that we can see how different models perform and try to select the best one"
   ]
  },
  {
   "cell_type": "code",
   "execution_count": 2,
   "metadata": {
    "collapsed": true
   },
   "outputs": [],
   "source": [
    "%matplotlib inline\n",
    "\n",
    "import numpy as np\n",
    "import pandas as pd\n",
    "import matplotlib.pyplot as plt\n",
    "from sklearn import preprocessing, feature_selection, linear_model\n",
    "\n",
    "plt.rcParams['figure.figsize'] = (10, 5)"
   ]
  },
  {
   "cell_type": "code",
   "execution_count": 3,
   "metadata": {
    "collapsed": false
   },
   "outputs": [],
   "source": [
    "# Load Data\n",
    "train_df = pd.read_csv('train.csv')\n",
    "\n",
    "#Select 70% for training and 30% for validation\n",
    "n = round(len(train_df.index)*.7)\n",
    "rows = np.random.choice(train_df.index.values, n)\n",
    "train = train_df.ix[rows]\n",
    "val = train_df.drop(rows)"
   ]
  },
  {
   "cell_type": "code",
   "execution_count": 4,
   "metadata": {
    "collapsed": true
   },
   "outputs": [],
   "source": [
    "# Get the y values from the training and validataiondata, drop Id and SalePrice columns\n",
    "y_train = train['SalePrice']\n",
    "X_train = train.drop(['Id', 'SalePrice'], axis=1)\n",
    "y_val = val['SalePrice']\n",
    "X_val = val.drop(['Id', 'SalePrice'], axis=1)"
   ]
  },
  {
   "cell_type": "code",
   "execution_count": 5,
   "metadata": {
    "collapsed": true
   },
   "outputs": [],
   "source": [
    "# Get lists of continuous and categorical column names\n",
    "cont = X_train.select_dtypes(exclude=['object']).columns.tolist()\n",
    "cat = X_train.select_dtypes(include=['object']).columns.tolist()"
   ]
  },
  {
   "cell_type": "code",
   "execution_count": 6,
   "metadata": {
    "collapsed": false
   },
   "outputs": [],
   "source": [
    "# Fill in all the categorical NaN values with 'None'. Looking at the documentation \n",
    "# there are some cases where NaN actually means that something is not present for \n",
    "# example, no pool. In other cases it seems like the value is unknown. It doesn't \n",
    "# make a difference to the analysis, though.\n",
    "\n",
    "X_train[cat] = X_train[cat].fillna('None')\n",
    "X_val[cat] = X_val[cat].fillna('None')\n",
    "\n",
    "# Fill the missing continuous values with the median\n",
    "# Maybe in some cases a missing value is meaningful, but we won't worry about that for now\n",
    "X_train[cont] = X_train[cont].fillna(X_train[cont].median())\n",
    "\n",
    "# Note that we're filling in the validation data with the median from the training set\n",
    "# because this is what we'd do for a novel test case\n",
    "X_val[cont] = X_val[cont].fillna(X_val[cont].median())"
   ]
  },
  {
   "cell_type": "code",
   "execution_count": 7,
   "metadata": {
    "collapsed": true
   },
   "outputs": [],
   "source": [
    "# Now let's center and scale the continuous variables, fit scaler with training data\n",
    "scl = preprocessing.StandardScaler()\n",
    "scl = scl.fit(X_train[cont])\n",
    "\n",
    "X_train[cont] = scl.transform(X_train[cont])\n",
    "X_val[cont] = scl.transform(X_val[cont])"
   ]
  },
  {
   "cell_type": "code",
   "execution_count": 8,
   "metadata": {
    "collapsed": true
   },
   "outputs": [],
   "source": [
    "# Make continuous variables into dummy variables\n",
    "X_train = pd.get_dummies(X_train)\n",
    "X_val = pd.get_dummies(X_val)"
   ]
  },
  {
   "cell_type": "code",
   "execution_count": 9,
   "metadata": {
    "collapsed": true
   },
   "outputs": [],
   "source": [
    "# The DataFrame needs to have the same columns as the training data\n",
    "diff = list(X_train.columns.difference(X_val.columns))\n",
    "X_val = X_val.reindex(columns=list(X_val.columns.values) + diff)\n",
    "diff2 = list(X_val.columns.difference(X_train.columns))\n",
    "X_val = X_val.drop(diff2, axis=1)\n",
    "X_val = X_val.fillna(0)"
   ]
  },
  {
   "cell_type": "code",
   "execution_count": 10,
   "metadata": {
    "collapsed": true
   },
   "outputs": [],
   "source": [
    "# First we'll try linear regression"
   ]
  },
  {
   "cell_type": "code",
   "execution_count": 11,
   "metadata": {
    "collapsed": false
   },
   "outputs": [
    {
     "data": {
      "text/plain": [
       "<function matplotlib.pyplot.show>"
      ]
     },
     "execution_count": 11,
     "metadata": {},
     "output_type": "execute_result"
    },
    {
     "data": {
      "image/png": "[encoded data removed]",
      "text/plain": [
       "<matplotlib.figure.Figure at 0x1150f0208>"
      ]
     },
     "metadata": {},
     "output_type": "display_data"
    }
   ],
   "source": [
    "# Look at dependent variable of our training set, it's *not* normally distributed\n",
    "# which is typical of house sale data, since there are a small number of homes that are very expensive\n",
    "# but few homes that are close to $0 in price, and none that are negative in price\n",
    "plt.hist(y_train, 20)\n",
    "plt.xticks(rotation='45')\n",
    "plt.show"
   ]
  },
  {
   "cell_type": "code",
   "execution_count": 12,
   "metadata": {
    "collapsed": false
   },
   "outputs": [
    {
     "data": {
      "text/plain": [
       "<function matplotlib.pyplot.show>"
      ]
     },
     "execution_count": 12,
     "metadata": {},
     "output_type": "execute_result"
    },
    {
     "data": {
      "image/png": "[encoded data removed]",
      "text/plain": [
       "<matplotlib.figure.Figure at 0x1150f07f0>"
      ]
     },
     "metadata": {},
     "output_type": "display_data"
    }
   ],
   "source": [
    "# It looks more normal if you take the natural log\n",
    "plt.hist(np.log(y_train), 20)\n",
    "plt.xticks(rotation='45')\n",
    "plt.show"
   ]
  },
  {
   "cell_type": "code",
   "execution_count": 13,
   "metadata": {
    "collapsed": true
   },
   "outputs": [],
   "source": [
    "# Well use the natural log of sale price for our new DV since linear regression assumes normality\n",
    "y_train = np.log(y_train)\n",
    "y_val = np.log(y_val)"
   ]
  },
  {
   "cell_type": "code",
   "execution_count": 14,
   "metadata": {
    "collapsed": false
   },
   "outputs": [
    {
     "name": "stdout",
     "output_type": "stream",
     "text": [
      "Mean squared error: 0.01\n",
      "Variance score: 0.95\n"
     ]
    }
   ],
   "source": [
    "regr = linear_model.LinearRegression()\n",
    "\n",
    "# Train the model using the training set\n",
    "regr.fit(X_train, y_train)\n",
    "\n",
    "# The mean squared error\n",
    "print(\"Mean squared error: %.2f\"\n",
    "      % np.mean((regr.predict(X_train) - y_train) ** 2))\n",
    "# Explained variance score: 1 is perfect prediction\n",
    "print('Variance score: %.2f' % regr.score(X_train, y_train))"
   ]
  },
  {
   "cell_type": "code",
   "execution_count": 15,
   "metadata": {
    "collapsed": false
   },
   "outputs": [
    {
     "name": "stdout",
     "output_type": "stream",
     "text": [
      "Mean squared error: 8884824963420719104.00\n",
      "Variance score: -56434641966299316224.00\n"
     ]
    }
   ],
   "source": [
    "# Predict\n",
    "prediction = regr.predict(X_val)\n",
    "\n",
    "# The mean squared error\n",
    "print(\"Mean squared error: %.2f\"\n",
    "      % np.mean((regr.predict(X_val) - y_val) ** 2))\n",
    "# Explained variance score: 1 is perfect prediction\n",
    "print('Variance score: %.2f' % regr.score(X_val, y_val))\n",
    "\n",
    "# We took the natural log earlier, so we need to convert predictions\n",
    "prediction = np.exp(prediction)"
   ]
  },
  {
   "cell_type": "code",
   "execution_count": 16,
   "metadata": {
    "collapsed": true
   },
   "outputs": [],
   "source": [
    "# So that's terrible...\n",
    "# I think the current model overfits the data since it is ok for the training but not so good for the validation set \n",
    "# we should use ridge regression instead since the L2 regularization should take care of this issue"
   ]
  },
  {
   "cell_type": "code",
   "execution_count": 17,
   "metadata": {
    "collapsed": false
   },
   "outputs": [
    {
     "name": "stdout",
     "output_type": "stream",
     "text": [
      "alpha: 3.0\n",
      "Mean squared error: 0.01\n",
      "Variance score: 0.95\n"
     ]
    }
   ],
   "source": [
    "# Create ridge regression object\n",
    "a = (0.01, .1, 1.0, 2.0, 3.0, 4.0, 5.0, 6.0, 7.0, 9.0, 10.0, 11.0, 12.0, 13.0, 14.0, 15.0)\n",
    "rr = linear_model.RidgeCV(alphas=a)\n",
    "\n",
    "# Train the model using the training set\n",
    "rr.fit(X_train, y_train)\n",
    "print('alpha:', rr.alpha_)\n",
    "\n",
    "# The mean squared error\n",
    "print(\"Mean squared error: %.2f\"\n",
    "      % np.mean((rr.predict(X_train) - y_train) ** 2))\n",
    "# Explained variance score: 1 is perfect prediction\n",
    "print('Variance score: %.2f' % rr.score(X_train, y_train))"
   ]
  },
  {
   "cell_type": "code",
   "execution_count": 18,
   "metadata": {
    "collapsed": false
   },
   "outputs": [
    {
     "name": "stdout",
     "output_type": "stream",
     "text": [
      "Mean squared error: 0.07\n",
      "Variance score: 0.56\n"
     ]
    }
   ],
   "source": [
    "# Predict\n",
    "prediction2 = rr.predict(X_val)\n",
    "\n",
    "# The mean squared error\n",
    "print(\"Mean squared error: %.2f\"\n",
    "      % np.mean((rr.predict(X_val) - y_val) ** 2))\n",
    "# Explained variance score: 1 is perfect prediction\n",
    "print('Variance score: %.2f' % rr.score(X_val, y_val))"
   ]
  },
  {
   "cell_type": "code",
   "execution_count": 19,
   "metadata": {
    "collapsed": false
   },
   "outputs": [
    {
     "data": {
      "text/plain": [
       "[<matplotlib.lines.Line2D at 0x1190a12e8>]"
      ]
     },
     "execution_count": 19,
     "metadata": {},
     "output_type": "execute_result"
    },
    {
     "data": {
      "image/png": "[encoded data removed]",
      "text/plain": [
       "<matplotlib.figure.Figure at 0x1190a1400>"
      ]
     },
     "metadata": {},
     "output_type": "display_data"
    }
   ],
   "source": [
    "# Looking at the scatterplot I wonder if I did something wrong with the predictions but I don't know what\n",
    "actual = val['SalePrice']\n",
    "plt.scatter(actual, np.exp(prediction2))\n",
    "plt.plot(actual, actual, 'r')"
   ]
  },
  {
   "cell_type": "code",
   "execution_count": 20,
   "metadata": {
    "collapsed": true
   },
   "outputs": [],
   "source": [
    "# Let's try again with fewer features"
   ]
  },
  {
   "cell_type": "code",
   "execution_count": 21,
   "metadata": {
    "collapsed": true
   },
   "outputs": [],
   "source": [
    "# This function allows us to try out a bunch of threshold values and see how they affect the R2\n",
    "\n",
    "def compare_threshold(X_train, y_train, X_val, y_val):\n",
    "    t_list = []\n",
    "    score_train =[]\n",
    "    score_val = []\n",
    "    mse_train = []\n",
    "    mse_val = []\n",
    "    \n",
    "    ridge = linear_model.RidgeCV(alphas=a)\n",
    "    ridge.fit(X_train, y_train)\n",
    "    \n",
    "    for t in np.arange(0,.02,0.0005):\n",
    "        # Play with the threshold value\n",
    "        sfm = feature_selection.SelectFromModel(ridge, threshold=t)\n",
    "        sfm.fit(X_train, y_train)\n",
    "        selected = sfm.get_support()\n",
    "        b = X_train.iloc[:,selected].columns.tolist()\n",
    "        \n",
    "        # Create linear regression object\n",
    "        r = linear_model.RidgeCV()\n",
    "\n",
    "        # Train the model using the training set\n",
    "        r.fit(X_train[b], y_train)\n",
    "        \n",
    "        t_list.append(t)\n",
    "        mse_train.append(np.mean((r.predict(X_train[b]) - y_train) ** 2))\n",
    "        mse_val.append(np.mean((r.predict(X_val[b]) - y_val) ** 2))\n",
    "        score_train.append(r.score(X_train[b], y_train))\n",
    "        score_val.append(r.score(X_val[b], y_val))\n",
    "        \n",
    "        \n",
    "    mse_df = pd.DataFrame({'Threshold': t_list, 'Training MSE': mse_train, 'Val MSE': mse_val})  \n",
    "    R2_df = pd.DataFrame({'Threshold': t_list, 'Training R2': score_train, 'Val R2': score_val})\n",
    "    \n",
    "    return mse_df, R2_df"
   ]
  },
  {
   "cell_type": "code",
   "execution_count": 22,
   "metadata": {
    "collapsed": false
   },
   "outputs": [],
   "source": [
    "mse_df, R2_df = compare_threshold(X_train, y_train, X_val, y_val)"
   ]
  },
  {
   "cell_type": "code",
   "execution_count": 23,
   "metadata": {
    "collapsed": false
   },
   "outputs": [
    {
     "data": {
      "text/html": [
       "<div>\n",
       "<table border=\"1\" class=\"dataframe\">\n",
       "  <thead>\n",
       "    <tr style=\"text-align: right;\">\n",
       "      <th></th>\n",
       "      <th>Threshold</th>\n",
       "      <th>Training MSE</th>\n",
       "      <th>Val MSE</th>\n",
       "    </tr>\n",
       "  </thead>\n",
       "  <tbody>\n",
       "    <tr>\n",
       "      <th>0</th>\n",
       "      <td>0.0000</td>\n",
       "      <td>0.008522</td>\n",
       "      <td>0.031382</td>\n",
       "    </tr>\n",
       "    <tr>\n",
       "      <th>1</th>\n",
       "      <td>0.0005</td>\n",
       "      <td>0.008523</td>\n",
       "      <td>0.031356</td>\n",
       "    </tr>\n",
       "    <tr>\n",
       "      <th>2</th>\n",
       "      <td>0.0010</td>\n",
       "      <td>0.008525</td>\n",
       "      <td>0.031338</td>\n",
       "    </tr>\n",
       "    <tr>\n",
       "      <th>3</th>\n",
       "      <td>0.0015</td>\n",
       "      <td>0.008537</td>\n",
       "      <td>0.031246</td>\n",
       "    </tr>\n",
       "    <tr>\n",
       "      <th>4</th>\n",
       "      <td>0.0020</td>\n",
       "      <td>0.008544</td>\n",
       "      <td>0.031244</td>\n",
       "    </tr>\n",
       "  </tbody>\n",
       "</table>\n",
       "</div>"
      ],
      "text/plain": [
       "   Threshold  Training MSE   Val MSE\n",
       "0     0.0000      0.008522  0.031382\n",
       "1     0.0005      0.008523  0.031356\n",
       "2     0.0010      0.008525  0.031338\n",
       "3     0.0015      0.008537  0.031246\n",
       "4     0.0020      0.008544  0.031244"
      ]
     },
     "execution_count": 23,
     "metadata": {},
     "output_type": "execute_result"
    }
   ],
   "source": [
    "mse_df.head()"
   ]
  },
  {
   "cell_type": "code",
   "execution_count": 24,
   "metadata": {
    "collapsed": false
   },
   "outputs": [
    {
     "data": {
      "text/plain": [
       "<matplotlib.legend.Legend at 0x1190cb518>"
      ]
     },
     "execution_count": 24,
     "metadata": {},
     "output_type": "execute_result"
    },
    {
     "data": {
      "image/png": "[encoded data removed]",
      "text/plain": [
       "<matplotlib.figure.Figure at 0x1190f9048>"
      ]
     },
     "metadata": {},
     "output_type": "display_data"
    }
   ],
   "source": [
    "# MSE plot\n",
    "plt.plot(mse_df['Threshold'],mse_df['Training MSE'])\n",
    "plt.plot(mse_df['Threshold'],mse_df['Val MSE'])\n",
    "plt.legend(bbox_to_anchor=(1.05, 1), loc=2, borderaxespad=0.)"
   ]
  },
  {
   "cell_type": "code",
   "execution_count": 25,
   "metadata": {
    "collapsed": false
   },
   "outputs": [
    {
     "data": {
      "text/html": [
       "<div>\n",
       "<table border=\"1\" class=\"dataframe\">\n",
       "  <thead>\n",
       "    <tr style=\"text-align: right;\">\n",
       "      <th></th>\n",
       "      <th>Threshold</th>\n",
       "      <th>Training R2</th>\n",
       "      <th>Val R2</th>\n",
       "    </tr>\n",
       "  </thead>\n",
       "  <tbody>\n",
       "    <tr>\n",
       "      <th>0</th>\n",
       "      <td>0.0000</td>\n",
       "      <td>0.949742</td>\n",
       "      <td>0.800668</td>\n",
       "    </tr>\n",
       "    <tr>\n",
       "      <th>1</th>\n",
       "      <td>0.0005</td>\n",
       "      <td>0.949731</td>\n",
       "      <td>0.800835</td>\n",
       "    </tr>\n",
       "    <tr>\n",
       "      <th>2</th>\n",
       "      <td>0.0010</td>\n",
       "      <td>0.949719</td>\n",
       "      <td>0.800946</td>\n",
       "    </tr>\n",
       "    <tr>\n",
       "      <th>3</th>\n",
       "      <td>0.0015</td>\n",
       "      <td>0.949652</td>\n",
       "      <td>0.801535</td>\n",
       "    </tr>\n",
       "    <tr>\n",
       "      <th>4</th>\n",
       "      <td>0.0020</td>\n",
       "      <td>0.949610</td>\n",
       "      <td>0.801542</td>\n",
       "    </tr>\n",
       "  </tbody>\n",
       "</table>\n",
       "</div>"
      ],
      "text/plain": [
       "   Threshold  Training R2    Val R2\n",
       "0     0.0000     0.949742  0.800668\n",
       "1     0.0005     0.949731  0.800835\n",
       "2     0.0010     0.949719  0.800946\n",
       "3     0.0015     0.949652  0.801535\n",
       "4     0.0020     0.949610  0.801542"
      ]
     },
     "execution_count": 25,
     "metadata": {},
     "output_type": "execute_result"
    }
   ],
   "source": [
    "R2_df.head()"
   ]
  },
  {
   "cell_type": "code",
   "execution_count": 26,
   "metadata": {
    "collapsed": false
   },
   "outputs": [
    {
     "data": {
      "text/plain": [
       "<matplotlib.legend.Legend at 0x1152120f0>"
      ]
     },
     "execution_count": 26,
     "metadata": {},
     "output_type": "execute_result"
    },
    {
     "data": {
      "image/png": "[encoded data removed]",
      "text/plain": [
       "<matplotlib.figure.Figure at 0x1190c3e80>"
      ]
     },
     "metadata": {},
     "output_type": "display_data"
    }
   ],
   "source": [
    "# R2 Plot\n",
    "plt.plot(R2_df['Threshold'], R2_df['Training R2'])\n",
    "plt.plot(R2_df['Threshold'],R2_df['Val R2'])\n",
    "plt.legend(bbox_to_anchor=(1.05, 1), loc=2, borderaxespad=0.)"
   ]
  },
  {
   "cell_type": "code",
   "execution_count": 27,
   "metadata": {
    "collapsed": false
   },
   "outputs": [
    {
     "data": {
      "text/plain": [
       "214"
      ]
     },
     "execution_count": 27,
     "metadata": {},
     "output_type": "execute_result"
    }
   ],
   "source": [
    "# We'll use the threshold obtained by looking at the graphs\n",
    "ridge = linear_model.RidgeCV(alphas=a)\n",
    "ridge.fit(X_train, y_train)\n",
    "\n",
    "sfm = feature_selection.SelectFromModel(ridge, threshold=.008)\n",
    "sfm.fit(X_train, y_train)\n",
    "selected = sfm.get_support()\n",
    "best = X_train.iloc[:,selected].columns.tolist()\n",
    "len(best)"
   ]
  },
  {
   "cell_type": "code",
   "execution_count": 28,
   "metadata": {
    "collapsed": false
   },
   "outputs": [
    {
     "name": "stdout",
     "output_type": "stream",
     "text": [
      "alpha: 2.0\n",
      "Mean squared error: 0.01\n",
      "Variance score: 0.95\n"
     ]
    }
   ],
   "source": [
    "# Create linear regression object\n",
    "rr2 = linear_model.RidgeCV(alphas=a)\n",
    "\n",
    "# Train the model using the training set\n",
    "rr2 = rr2.fit(X_train[best], y_train)\n",
    "print('alpha:', rr2.alpha_)\n",
    "\n",
    "# The mean squared error\n",
    "print(\"Mean squared error: %.2f\"\n",
    "      % np.mean((rr2.predict(X_train[best]) - y_train) ** 2))\n",
    "# Explained variance score: 1 is perfect prediction\n",
    "print('Variance score: %.2f' % rr2.score(X_train[best], y_train))"
   ]
  },
  {
   "cell_type": "code",
   "execution_count": 29,
   "metadata": {
    "collapsed": false
   },
   "outputs": [
    {
     "name": "stdout",
     "output_type": "stream",
     "text": [
      "Mean squared error: 0.03\n",
      "Variance score: 0.81\n"
     ]
    }
   ],
   "source": [
    "# Predict\n",
    "prediction3 = rr2.predict(X_val[best])\n",
    "\n",
    "# The mean squared error\n",
    "print(\"Mean squared error: %.2f\"\n",
    "      % np.mean((rr2.predict(X_val[best]) - y_val) ** 2))\n",
    "# Explained variance score: 1 is perfect prediction\n",
    "print('Variance score: %.2f' % rr2.score(X_val[best], y_val))"
   ]
  },
  {
   "cell_type": "code",
   "execution_count": 30,
   "metadata": {
    "collapsed": true
   },
   "outputs": [],
   "source": [
    "# We took the natural log earlier, so we need to convert predictions\n",
    "prediction3 = np.exp(prediction3)"
   ]
  },
  {
   "cell_type": "code",
   "execution_count": 31,
   "metadata": {
    "collapsed": false
   },
   "outputs": [
    {
     "data": {
      "text/plain": [
       "[<matplotlib.lines.Line2D at 0x11903e470>]"
      ]
     },
     "execution_count": 31,
     "metadata": {},
     "output_type": "execute_result"
    },
    {
     "data": {
      "image/png": "[encoded data removed]",
      "text/plain": [
       "<matplotlib.figure.Figure at 0x11903e4e0>"
      ]
     },
     "metadata": {},
     "output_type": "display_data"
    }
   ],
   "source": [
    "plt.scatter(actual, prediction3)\n",
    "plt.plot(actual, actual, 'r')"
   ]
  },
  {
   "cell_type": "code",
   "execution_count": 32,
   "metadata": {
    "collapsed": true
   },
   "outputs": [],
   "source": [
    "# Now we need to create a model using all the training data"
   ]
  },
  {
   "cell_type": "code",
   "execution_count": 33,
   "metadata": {
    "collapsed": true
   },
   "outputs": [],
   "source": [
    "# Get X and y DFs\n",
    "y = train['SalePrice']\n",
    "X = train.drop(['Id', 'SalePrice'], axis=1)\n",
    "\n",
    "# Fill missing values\n",
    "X[cat] = X[cat].fillna('None')\n",
    "X[cont] = X[cont].fillna(X[cont].median())\n",
    "\n",
    "# Scale\n",
    "scl = preprocessing.StandardScaler()\n",
    "scl = scl.fit(X[cont])\n",
    "X[cont] = scl.transform(X[cont])\n",
    "\n",
    "# Dummy Variables\n",
    "X = pd.get_dummies(X)\n",
    "\n",
    "# Normalize DV\n",
    "y = np.log(y)"
   ]
  },
  {
   "cell_type": "code",
   "execution_count": 34,
   "metadata": {
    "collapsed": false
   },
   "outputs": [
    {
     "data": {
      "text/plain": [
       "213"
      ]
     },
     "execution_count": 34,
     "metadata": {},
     "output_type": "execute_result"
    }
   ],
   "source": [
    "# We'll use the same threshold as before to select features\n",
    "ridge = linear_model.RidgeCV(alphas=a)\n",
    "ridge.fit(X, y)\n",
    "\n",
    "sfm = feature_selection.SelectFromModel(ridge, threshold=.0085)\n",
    "sfm.fit(X, y)\n",
    "selected = sfm.get_support()\n",
    "best = X_train.iloc[:,selected].columns.tolist()\n",
    "len(best)"
   ]
  },
  {
   "cell_type": "code",
   "execution_count": 35,
   "metadata": {
    "collapsed": false
   },
   "outputs": [
    {
     "name": "stdout",
     "output_type": "stream",
     "text": [
      "alpha: 2.0\n",
      "Mean squared error: 0.01\n",
      "Variance score: 0.95\n"
     ]
    }
   ],
   "source": [
    "# Create linear regression object\n",
    "rr = linear_model.RidgeCV(alphas=a)\n",
    "\n",
    "# Train the model using the training set\n",
    "rr = rr.fit(X[best], y)\n",
    "print('alpha:', rr.alpha_)\n",
    "\n",
    "# The mean squared error\n",
    "print(\"Mean squared error: %.2f\"\n",
    "      % np.mean((rr.predict(X[best]) - y) ** 2))\n",
    "# Explained variance score: 1 is perfect prediction\n",
    "print('Variance score: %.2f' % rr.score(X[best], y))"
   ]
  },
  {
   "cell_type": "code",
   "execution_count": 36,
   "metadata": {
    "collapsed": false
   },
   "outputs": [],
   "source": [
    "# Load test data\n",
    "test_df = pd.read_csv('test.csv')\n",
    "\n",
    "# Test X data\n",
    "test_id = test_df['Id'].values\n",
    "X_test = test_df.drop(['Id'], axis=1)\n",
    "\n",
    "# Fill missing values\n",
    "X_test[cat] = X_test[cat].fillna('None')\n",
    "X_test[cont] = X_test[cont].fillna(X[cont].median())\n",
    "\n",
    "# Scale\n",
    "X_test[cont] = scl.transform(X_test[cont])\n",
    "\n",
    "# Dummy Variables\n",
    "X_test = pd.get_dummies(X_test)\n",
    "\n",
    "# The test DataFrame needs to have the same columns as the training data\n",
    "diff = list(X.columns.difference(X_test.columns))\n",
    "X_test = X_test.reindex(columns=list(X_test.columns.values) + diff)\n",
    "diff2 = list(X_test.columns.difference(X.columns))\n",
    "X_test = X_test.drop(diff2, axis=1)\n",
    "X_test = X_test.fillna(0)"
   ]
  },
  {
   "cell_type": "code",
   "execution_count": 37,
   "metadata": {
    "collapsed": false
   },
   "outputs": [],
   "source": [
    "# Predict\n",
    "y_pred = rr.predict(X_test[best])\n",
    "y_pred = np.exp(y_pred)\n",
    "\n",
    "# DataFrame of Id and Predictions\n",
    "pred_df = pd.DataFrame(data={'Id': test_id, 'SalePrice': y_pred})\n",
    "\n",
    "# Save solution file\n",
    "pred_df.to_csv('solution_ridge1.csv', index=False)"
   ]
  },
  {
   "cell_type": "code",
   "execution_count": 38,
   "metadata": {
    "collapsed": false
   },
   "outputs": [
    {
     "data": {
      "text/html": [
       "<div>\n",
       "<table border=\"1\" class=\"dataframe\">\n",
       "  <thead>\n",
       "    <tr style=\"text-align: right;\">\n",
       "      <th></th>\n",
       "      <th>Id</th>\n",
       "      <th>SalePrice</th>\n",
       "    </tr>\n",
       "  </thead>\n",
       "  <tbody>\n",
       "    <tr>\n",
       "      <th>count</th>\n",
       "      <td>1459.000000</td>\n",
       "      <td>1.459000e+03</td>\n",
       "    </tr>\n",
       "    <tr>\n",
       "      <th>mean</th>\n",
       "      <td>2190.000000</td>\n",
       "      <td>1.735724e+05</td>\n",
       "    </tr>\n",
       "    <tr>\n",
       "      <th>std</th>\n",
       "      <td>421.321334</td>\n",
       "      <td>9.125991e+04</td>\n",
       "    </tr>\n",
       "    <tr>\n",
       "      <th>min</th>\n",
       "      <td>1461.000000</td>\n",
       "      <td>9.785753e+03</td>\n",
       "    </tr>\n",
       "    <tr>\n",
       "      <th>25%</th>\n",
       "      <td>1825.500000</td>\n",
       "      <td>1.232760e+05</td>\n",
       "    </tr>\n",
       "    <tr>\n",
       "      <th>50%</th>\n",
       "      <td>2190.000000</td>\n",
       "      <td>1.562045e+05</td>\n",
       "    </tr>\n",
       "    <tr>\n",
       "      <th>75%</th>\n",
       "      <td>2554.500000</td>\n",
       "      <td>2.069136e+05</td>\n",
       "    </tr>\n",
       "    <tr>\n",
       "      <th>max</th>\n",
       "      <td>2919.000000</td>\n",
       "      <td>1.603714e+06</td>\n",
       "    </tr>\n",
       "  </tbody>\n",
       "</table>\n",
       "</div>"
      ],
      "text/plain": [
       "                Id     SalePrice\n",
       "count  1459.000000  1.459000e+03\n",
       "mean   2190.000000  1.735724e+05\n",
       "std     421.321334  9.125991e+04\n",
       "min    1461.000000  9.785753e+03\n",
       "25%    1825.500000  1.232760e+05\n",
       "50%    2190.000000  1.562045e+05\n",
       "75%    2554.500000  2.069136e+05\n",
       "max    2919.000000  1.603714e+06"
      ]
     },
     "execution_count": 38,
     "metadata": {},
     "output_type": "execute_result"
    }
   ],
   "source": [
    "# These preditions contain negative values \n",
    "pred_df.describe()"
   ]
  },
  {
   "cell_type": "code",
   "execution_count": 39,
   "metadata": {
    "collapsed": false
   },
   "outputs": [
    {
     "name": "stdout",
     "output_type": "stream",
     "text": [
      "Mean squared error: 0.01\n",
      "Variance score: 0.95\n"
     ]
    }
   ],
   "source": [
    "# Create linear regression object\n",
    "rr = linear_model.Ridge()\n",
    "\n",
    "# Train the model using the training set\n",
    "rr = rr.fit(X_train, y)\n",
    "\n",
    "# The mean squared error\n",
    "print(\"Mean squared error: %.2f\"\n",
    "      % np.mean((rr.predict(X_train) - y_train) ** 2))\n",
    "# Explained variance score: 1 is perfect prediction\n",
    "print('Variance score: %.2f' % rr.score(X_train, y_train))"
   ]
  },
  {
   "cell_type": "code",
   "execution_count": 40,
   "metadata": {
    "collapsed": false
   },
   "outputs": [
    {
     "name": "stdout",
     "output_type": "stream",
     "text": [
      "Mean squared error: 0.10\n",
      "Variance score: 0.40\n"
     ]
    }
   ],
   "source": [
    "# Predict\n",
    "prediction = rr.predict(X_val)\n",
    "\n",
    "# The mean squared error\n",
    "print(\"Mean squared error: %.2f\"\n",
    "      % np.mean((rr.predict(X_val) - y_val) ** 2))\n",
    "# Explained variance score: 1 is perfect prediction\n",
    "print('Variance score: %.2f' % rr.score(X_val, y_val))"
   ]
  },
  {
   "cell_type": "code",
   "execution_count": 41,
   "metadata": {
    "collapsed": false
   },
   "outputs": [
    {
     "data": {
      "text/plain": [
       "[<matplotlib.lines.Line2D at 0x11b81cc88>]"
      ]
     },
     "execution_count": 41,
     "metadata": {},
     "output_type": "execute_result"
    },
    {
     "data": {
      "image/png": "[encoded data removed]",
      "text/plain": [
       "<matplotlib.figure.Figure at 0x11b81c4a8>"
      ]
     },
     "metadata": {},
     "output_type": "display_data"
    }
   ],
   "source": [
    "plt.scatter(actual, np.exp(prediction))\n",
    "plt.plot(actual, actual, 'r')"
   ]
  },
  {
   "cell_type": "code",
   "execution_count": 42,
   "metadata": {
    "collapsed": true
   },
   "outputs": [],
   "source": [
    "# Seeing how lasso does"
   ]
  },
  {
   "cell_type": "code",
   "execution_count": 55,
   "metadata": {
    "collapsed": true
   },
   "outputs": [],
   "source": [
    "# This function allows us to try out a bunch of alpha values and see how they affect the R2\n",
    "\n",
    "def compare_alpha(X_train, y_train, X_val, y_val):\n",
    "    alpha_list = []\n",
    "    score_train =[]\n",
    "    score_val = []\n",
    "    mse_train = []\n",
    "    mse_val = []\n",
    "    \n",
    "    for a in np.arange(0.0005,.01,0.0005):\n",
    "        # Create linear regression object\n",
    "        r = linear_model.Lasso(alpha=a)\n",
    "\n",
    "        # Train the model using the training set\n",
    "        r.fit(X_train, y_train)\n",
    "        \n",
    "        alpha_list.append(a)\n",
    "        mse_train.append(np.mean((r.predict(X_train) - y_train) ** 2))\n",
    "        mse_val.append(np.mean((r.predict(X_val) - y_val) ** 2))\n",
    "        score_train.append(r.score(X_train, y_train))\n",
    "        score_val.append(r.score(X_val, y_val))\n",
    "        \n",
    "        \n",
    "    mse_df = pd.DataFrame({'Alpha': alpha_list, 'Training MSE': mse_train, 'Val MSE': mse_val})  \n",
    "    R2_df = pd.DataFrame({'Alpha': alpha_list, 'Training R2': score_train, 'Val R2': score_val})\n",
    "    \n",
    "    return mse_df, R2_df"
   ]
  },
  {
   "cell_type": "code",
   "execution_count": 56,
   "metadata": {
    "collapsed": false
   },
   "outputs": [],
   "source": [
    "mse_df, R2_df = compare_alpha(X_train, y_train, X_val, y_val)"
   ]
  },
  {
   "cell_type": "code",
   "execution_count": 57,
   "metadata": {
    "collapsed": false
   },
   "outputs": [
    {
     "data": {
      "text/html": [
       "<div>\n",
       "<table border=\"1\" class=\"dataframe\">\n",
       "  <thead>\n",
       "    <tr style=\"text-align: right;\">\n",
       "      <th></th>\n",
       "      <th>Alpha</th>\n",
       "      <th>Training MSE</th>\n",
       "      <th>Val MSE</th>\n",
       "    </tr>\n",
       "  </thead>\n",
       "  <tbody>\n",
       "    <tr>\n",
       "      <th>0</th>\n",
       "      <td>0.0005</td>\n",
       "      <td>0.010794</td>\n",
       "      <td>0.049532</td>\n",
       "    </tr>\n",
       "    <tr>\n",
       "      <th>1</th>\n",
       "      <td>0.0010</td>\n",
       "      <td>0.012327</td>\n",
       "      <td>0.056562</td>\n",
       "    </tr>\n",
       "    <tr>\n",
       "      <th>2</th>\n",
       "      <td>0.0015</td>\n",
       "      <td>0.013300</td>\n",
       "      <td>0.047239</td>\n",
       "    </tr>\n",
       "    <tr>\n",
       "      <th>3</th>\n",
       "      <td>0.0020</td>\n",
       "      <td>0.014274</td>\n",
       "      <td>0.041871</td>\n",
       "    </tr>\n",
       "    <tr>\n",
       "      <th>4</th>\n",
       "      <td>0.0025</td>\n",
       "      <td>0.015397</td>\n",
       "      <td>0.038337</td>\n",
       "    </tr>\n",
       "  </tbody>\n",
       "</table>\n",
       "</div>"
      ],
      "text/plain": [
       "    Alpha  Training MSE   Val MSE\n",
       "0  0.0005      0.010794  0.049532\n",
       "1  0.0010      0.012327  0.056562\n",
       "2  0.0015      0.013300  0.047239\n",
       "3  0.0020      0.014274  0.041871\n",
       "4  0.0025      0.015397  0.038337"
      ]
     },
     "execution_count": 57,
     "metadata": {},
     "output_type": "execute_result"
    }
   ],
   "source": [
    "mse_df.head()"
   ]
  },
  {
   "cell_type": "code",
   "execution_count": 58,
   "metadata": {
    "collapsed": false
   },
   "outputs": [
    {
     "data": {
      "text/html": [
       "<div>\n",
       "<table border=\"1\" class=\"dataframe\">\n",
       "  <thead>\n",
       "    <tr style=\"text-align: right;\">\n",
       "      <th></th>\n",
       "      <th>Alpha</th>\n",
       "      <th>Training R2</th>\n",
       "      <th>Val R2</th>\n",
       "    </tr>\n",
       "  </thead>\n",
       "  <tbody>\n",
       "    <tr>\n",
       "      <th>0</th>\n",
       "      <td>0.0005</td>\n",
       "      <td>0.936340</td>\n",
       "      <td>0.685385</td>\n",
       "    </tr>\n",
       "    <tr>\n",
       "      <th>1</th>\n",
       "      <td>0.0010</td>\n",
       "      <td>0.927301</td>\n",
       "      <td>0.640731</td>\n",
       "    </tr>\n",
       "    <tr>\n",
       "      <th>2</th>\n",
       "      <td>0.0015</td>\n",
       "      <td>0.921560</td>\n",
       "      <td>0.699950</td>\n",
       "    </tr>\n",
       "    <tr>\n",
       "      <th>3</th>\n",
       "      <td>0.0020</td>\n",
       "      <td>0.915818</td>\n",
       "      <td>0.734044</td>\n",
       "    </tr>\n",
       "    <tr>\n",
       "      <th>4</th>\n",
       "      <td>0.0025</td>\n",
       "      <td>0.909189</td>\n",
       "      <td>0.756493</td>\n",
       "    </tr>\n",
       "  </tbody>\n",
       "</table>\n",
       "</div>"
      ],
      "text/plain": [
       "    Alpha  Training R2    Val R2\n",
       "0  0.0005     0.936340  0.685385\n",
       "1  0.0010     0.927301  0.640731\n",
       "2  0.0015     0.921560  0.699950\n",
       "3  0.0020     0.915818  0.734044\n",
       "4  0.0025     0.909189  0.756493"
      ]
     },
     "execution_count": 58,
     "metadata": {},
     "output_type": "execute_result"
    }
   ],
   "source": [
    "R2_df.head()"
   ]
  },
  {
   "cell_type": "code",
   "execution_count": 59,
   "metadata": {
    "collapsed": false
   },
   "outputs": [
    {
     "data": {
      "text/plain": [
       "<matplotlib.legend.Legend at 0x115416940>"
      ]
     },
     "execution_count": 59,
     "metadata": {},
     "output_type": "execute_result"
    },
    {
     "data": {
      "image/png": "[encoded data removed]",
      "text/plain": [
       "<matplotlib.figure.Figure at 0x11538bc18>"
      ]
     },
     "metadata": {},
     "output_type": "display_data"
    }
   ],
   "source": [
    "# MSE plot\n",
    "plt.plot(mse_df['Alpha'],mse_df['Training MSE'])\n",
    "plt.plot(mse_df['Alpha'],mse_df['Val MSE'])\n",
    "plt.legend(bbox_to_anchor=(1.05, 1), loc=2, borderaxespad=0.)"
   ]
  },
  {
   "cell_type": "code",
   "execution_count": 60,
   "metadata": {
    "collapsed": false
   },
   "outputs": [
    {
     "data": {
      "text/plain": [
       "<matplotlib.legend.Legend at 0x11aa3e898>"
      ]
     },
     "execution_count": 60,
     "metadata": {},
     "output_type": "execute_result"
    },
    {
     "data": {
      "image/png": "[encoded data removed]",
      "text/plain": [
       "<matplotlib.figure.Figure at 0x11ab4c630>"
      ]
     },
     "metadata": {},
     "output_type": "display_data"
    }
   ],
   "source": [
    "# R2 Plot\n",
    "plt.plot(R2_df['Alpha'], R2_df['Training R2'])\n",
    "plt.plot(R2_df['Alpha'],R2_df['Val R2'])\n",
    "plt.legend(bbox_to_anchor=(1.05, 1), loc=2, borderaxespad=0.)"
   ]
  },
  {
   "cell_type": "code",
   "execution_count": 61,
   "metadata": {
    "collapsed": false
   },
   "outputs": [
    {
     "name": "stdout",
     "output_type": "stream",
     "text": [
      "Mean squared error: 0.02\n",
      "Variance score: 0.89\n"
     ]
    }
   ],
   "source": [
    "lasso = linear_model.Lasso(alpha=0.005)\n",
    "lasso.fit(X_train, y_train)\n",
    "\n",
    "# The mean squared error\n",
    "print(\"Mean squared error: %.2f\"\n",
    "      % np.mean((lasso.predict(X_train) - y_train) ** 2))\n",
    "# Explained variance score: 1 is perfect prediction\n",
    "print('Variance score: %.2f' % lasso.score(X_train, y_train))"
   ]
  },
  {
   "cell_type": "code",
   "execution_count": 62,
   "metadata": {
    "collapsed": false
   },
   "outputs": [
    {
     "name": "stdout",
     "output_type": "stream",
     "text": [
      "Mean squared error: 0.03\n",
      "Variance score: 0.81\n"
     ]
    }
   ],
   "source": [
    "# Test\n",
    "prediction_l = lasso.predict(X_val)\n",
    "\n",
    "# The mean squared error\n",
    "print(\"Mean squared error: %.2f\"\n",
    "      % np.mean((lasso.predict(X_val) - y_val) ** 2))\n",
    "# Explained variance score: 1 is perfect prediction\n",
    "print('Variance score: %.2f' % lasso.score(X_val, y_val))"
   ]
  },
  {
   "cell_type": "code",
   "execution_count": 63,
   "metadata": {
    "collapsed": false
   },
   "outputs": [
    {
     "data": {
      "text/plain": [
       "[<matplotlib.lines.Line2D at 0x11b77e128>]"
      ]
     },
     "execution_count": 63,
     "metadata": {},
     "output_type": "execute_result"
    },
    {
     "data": {
      "image/png": "[encoded data removed]",
      "text/plain": [
       "<matplotlib.figure.Figure at 0x11b77e048>"
      ]
     },
     "metadata": {},
     "output_type": "display_data"
    }
   ],
   "source": [
    "prediction_l = np.exp(prediction_l)\n",
    "plt.scatter(actual, prediction_l)\n",
    "plt.plot(actual, actual, 'r')"
   ]
  },
  {
   "cell_type": "code",
   "execution_count": 64,
   "metadata": {
    "collapsed": false
   },
   "outputs": [
    {
     "name": "stdout",
     "output_type": "stream",
     "text": [
      "Mean squared error: 0.01\n",
      "Variance score: 0.94\n"
     ]
    }
   ],
   "source": [
    "lasso2 = linear_model.LassoCV()\n",
    "lasso2.fit(X_train, y_train)\n",
    "\n",
    "# The mean squared error\n",
    "print(\"Mean squared error: %.2f\"\n",
    "      % np.mean((lasso2.predict(X_train) - y_train) ** 2))\n",
    "# Explained variance score: 1 is perfect prediction\n",
    "print('Variance score: %.2f' % lasso2.score(X_train, y_train))"
   ]
  },
  {
   "cell_type": "code",
   "execution_count": 65,
   "metadata": {
    "collapsed": false
   },
   "outputs": [
    {
     "name": "stdout",
     "output_type": "stream",
     "text": [
      "Mean squared error: 0.05\n",
      "Variance score: 0.70\n"
     ]
    }
   ],
   "source": [
    "# Test\n",
    "prediction_l2 = lasso2.predict(X_val)\n",
    "\n",
    "# The mean squared error\n",
    "print(\"Mean squared error: %.2f\"\n",
    "      % np.mean((lasso2.predict(X_val) - y_val) ** 2))\n",
    "# Explained variance score: 1 is perfect prediction\n",
    "print('Variance score: %.2f' % lasso2.score(X_val, y_val))"
   ]
  },
  {
   "cell_type": "code",
   "execution_count": 66,
   "metadata": {
    "collapsed": false
   },
   "outputs": [
    {
     "data": {
      "text/plain": [
       "[<matplotlib.lines.Line2D at 0x115138e10>]"
      ]
     },
     "execution_count": 66,
     "metadata": {},
     "output_type": "execute_result"
    },
    {
     "data": {
      "image/png": "[encoded data removed]",
      "text/plain": [
       "<matplotlib.figure.Figure at 0x11c75a438>"
      ]
     },
     "metadata": {},
     "output_type": "display_data"
    }
   ],
   "source": [
    "prediction_l2 = np.exp(prediction_l2)\n",
    "plt.scatter(actual, prediction_l2)\n",
    "plt.plot(actual, actual, 'r')"
   ]
  },
  {
   "cell_type": "code",
   "execution_count": null,
   "metadata": {
    "collapsed": true
   },
   "outputs": [],
   "source": []
  },
  {
   "cell_type": "code",
   "execution_count": null,
   "metadata": {
    "collapsed": true
   },
   "outputs": [],
   "source": []
  }
 ],
 "metadata": {
  "anaconda-cloud": {},
  "kernelspec": {
   "display_name": "Python [Root]",
   "language": "python",
   "name": "Python [Root]"
  },
  "language_info": {
   "codemirror_mode": {
    "name": "ipython",
    "version": 3
   },
   "file_extension": ".py",
   "mimetype": "text/x-python",
   "name": "python",
   "nbconvert_exporter": "python",
   "pygments_lexer": "ipython3",
   "version": "3.5.2"
  }
 },
 "nbformat": 4,
 "nbformat_minor": 0
}
