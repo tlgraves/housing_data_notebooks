{
 "cells": [
  {
   "cell_type": "code",
   "execution_count": 1,
   "metadata": {
    "collapsed": true
   },
   "outputs": [],
   "source": [
    "%matplotlib inline\n",
    "\n",
    "import numpy as np\n",
    "import pandas as pd\n",
    "import matplotlib.pyplot as plt\n",
    "from sklearn import preprocessing, ensemble\n",
    "\n",
    "plt.rcParams['figure.figsize'] = (10, 10)"
   ]
  },
  {
   "cell_type": "code",
   "execution_count": 2,
   "metadata": {
    "collapsed": true
   },
   "outputs": [],
   "source": [
    "# Load Data\n",
    "train_df = pd.read_csv('train.csv')\n",
    "test_df = pd.read_csv('test.csv')\n",
    "\n",
    "# Get the y values from the training data, drop Id and SalePrice columns\n",
    "y_train = train_df['SalePrice']\n",
    "X_train = train_df.drop(['Id', 'SalePrice'], axis=1)\n",
    "\n",
    "# Drop Id from test, but save for later\n",
    "test_id = test_df['Id']\n",
    "X_test = test_df.drop(['Id'], axis=1)"
   ]
  },
  {
   "cell_type": "code",
   "execution_count": 3,
   "metadata": {
    "collapsed": true
   },
   "outputs": [],
   "source": [
    "def feature_engineering(df):\n",
    "    # Let's make a date...column\n",
    "    date = {'year': df['YrSold'], 'month': df['MoSold'], 'day': [1] * df.shape[0]}\n",
    "    df['DateSold'] = pd.to_datetime(date)\n",
    "    df['DateSold'] = (df['DateSold'] - df['DateSold'].min())  / np.timedelta64(1,'D')\n",
    "    \n",
    "    # Some features are rankings of the same type\n",
    "    rank_dict = {'Ex': 5, 'Gd': 4, 'TA': 3, 'Fa': 2, 'Po': 1}\n",
    "\n",
    "    df['ExterQual'] = df['ExterQual'].map(rank_dict)\n",
    "    df['ExterCond'] = df['ExterCond'].map(rank_dict)\n",
    "    df['BsmtQual'] = df['BsmtQual'].map(rank_dict).fillna(0)\n",
    "    df['BsmtCond'] = df['BsmtCond'].map(rank_dict).fillna(0)\n",
    "    df['HeatingQC'] = df['HeatingQC'].map(rank_dict).fillna(0)\n",
    "    df['KitchenQual'] = df['KitchenQual'].map(rank_dict)\n",
    "    df['FireplaceQu'] = df['FireplaceQu'].map(rank_dict).fillna(0)\n",
    "    df['GarageQual'] = df['GarageQual'].map(rank_dict).fillna(0)\n",
    "    df['GarageCond'] = df['GarageCond'].map(rank_dict).fillna(0)\n",
    "    df['PoolQC'] = df['PoolQC'].map(rank_dict).fillna(0)\n",
    "    \n",
    "    # Then there are other features that are really rankings\n",
    "    df['LotShape'] = df['LotShape'].map({'Reg': 0, 'IR1': 1, 'IR2': 2, 'IR3':3})\n",
    "    df['Utilities'] = df['Utilities'].map({'AllPub': 4, 'NoSewr': 3, 'NoSeWa': 2, 'ELO': 1})\n",
    "    df['LandSlope'] = df['LandSlope'].map({'Gtl': 0, 'Mod': 1, 'Sev': 2})\n",
    "    df['BsmtExposure'] = df['BsmtExposure'].map({'Gd': 4, 'Av': 3, 'Mn': 2, 'No': 1}).fillna(0)\n",
    "    df['BsmtFinType1'] = df['BsmtFinType1'].map({'GLQ': 6, 'ALQ': 5, 'BLQ': 4, 'Rec': 3, \n",
    "                                                               'LwQ': 2, 'Unf': 1}).fillna(0) \n",
    "    df['BsmtFinType2'] = df['BsmtFinType2'].map({'GLQ': 6, 'ALQ': 5, 'BLQ': 4, 'Rec': 3, \n",
    "                                                               'LwQ': 2, 'Unf': 1}).fillna(0)\n",
    "    df['Functional'] = df['Functional'].map({'Typ': 7, 'Min1': 6, 'Min2': 5, 'Mod': 4,\n",
    "                                                          'Maj1': 3, 'Maj2': 2, 'Sev': 1, 'Sal': 0})\n",
    "    df['GarageFinish'] = df['GarageFinish'].map({'Fin': 3, 'RFn': 2, 'Unf': 1}).fillna(0)\n",
    "    df['Fence'] = df['Fence'].map({'GdPrv': 4, 'MnPrv': 3, 'GdWo': 2, 'MnWv': 1}).fillna(0)\n",
    "    \n",
    "    # Fill in None if the NaN value actually means that feature is not present, otherwise the process function\n",
    "    # will fill in 'U' for truly unknown values later\n",
    "    df['Alley'] = df['Alley'].fillna('None')\n",
    "    df['GarageType'] = df['GarageType'].fillna('None')\n",
    "    df['MiscFeature'] = df['MiscFeature'].fillna('None')\n",
    "    \n",
    "    return df"
   ]
  },
  {
   "cell_type": "code",
   "execution_count": 4,
   "metadata": {
    "collapsed": true
   },
   "outputs": [],
   "source": [
    "def change_features(X_train, X_test):\n",
    "    X_train = feature_engineering(X_train)\n",
    "    X_test = feature_engineering(X_test)\n",
    "    \n",
    "    return X_train, X_test"
   ]
  },
  {
   "cell_type": "code",
   "execution_count": 5,
   "metadata": {
    "collapsed": true
   },
   "outputs": [],
   "source": [
    "def fill_data(X_train, X_test):   \n",
    "    # Get lists of continuous and categorical column names\n",
    "    cont = X_train.select_dtypes(include=['int', 'float']).columns.tolist()\n",
    "    cat = X_train.select_dtypes(include=['object']).columns.tolist()\n",
    "    \n",
    "    # Fill in all the categorical NaN values with 'U' for Unknown\n",
    "    X_train[cat] = X_train[cat].fillna('U')\n",
    "    X_test[cat] = X_test[cat].fillna('U')\n",
    "\n",
    "    # Fill the missing continuous values with the median or a more meaningful value\n",
    "    X_train[cont] = X_train[cont].fillna(X_train[cont].median())\n",
    "    X_train['GarageYrBlt'] = X_train['GarageYrBlt'].fillna(X_train['GarageYrBlt'].min())\n",
    "\n",
    "    # Note that we're filling in the test data with values from the training set\n",
    "    X_test[cont] = X_test[cont].fillna(X_train[cont].median())\n",
    "    X_test['GarageYrBlt'] = X_test['GarageYrBlt'].fillna(X_train['GarageYrBlt'].min())\n",
    "    \n",
    "    return X_train, X_test"
   ]
  },
  {
   "cell_type": "code",
   "execution_count": 6,
   "metadata": {
    "collapsed": true
   },
   "outputs": [],
   "source": [
    "def normalize_features(X_train, X_test):\n",
    "    # Normalize continuous variables\n",
    "    skewed = X_train.skew(axis=0, numeric_only=True)\n",
    "    skewed = skewed[skewed > 1].index.tolist()\n",
    "    \n",
    "    nml = preprocessing.Normalizer()\n",
    "    nml = nml.fit(X_train[skewed])\n",
    "    \n",
    "    X_train[skewed] = nml.transform(X_train[skewed])\n",
    "    X_test[skewed] = nml.transform(X_test[skewed])\n",
    "    \n",
    "    return X_train, X_test"
   ]
  },
  {
   "cell_type": "code",
   "execution_count": 7,
   "metadata": {
    "collapsed": true
   },
   "outputs": [],
   "source": [
    "def scale_features(X_train, X_test):\n",
    "    # Get lists of continuous and categorical column names\n",
    "    cont = X_train.select_dtypes(include=['int', 'float']).columns.tolist()\n",
    "    \n",
    "    # Now let's center and scale the continuous variables, fit scaler with training data\n",
    "    scl = preprocessing.StandardScaler()\n",
    "    scl = scl.fit(X_train[cont])\n",
    "\n",
    "    X_train[cont] = scl.transform(X_train[cont])\n",
    "    X_test[cont] = scl.transform(X_test[cont])\n",
    "    \n",
    "    return X_train, X_test"
   ]
  },
  {
   "cell_type": "code",
   "execution_count": 8,
   "metadata": {
    "collapsed": true
   },
   "outputs": [],
   "source": [
    "def cat_to_cont(X_train, X_test):\n",
    "    # Make continuous variables into dummy variables\n",
    "    X_train = pd.get_dummies(X_train)\n",
    "    X_test = pd.get_dummies(X_test)\n",
    "\n",
    "    # The DataFrame needs to have the same columns as the training data\n",
    "    diff = list(X_train.columns.difference(X_test.columns))\n",
    "    X_test = X_test.reindex(columns=list(X_test.columns.values) + diff)\n",
    "    diff2 = list(X_test.columns.difference(X_train.columns))\n",
    "    X_test = X_test.drop(diff2, axis=1)\n",
    "    X_test = X_test.fillna(0)\n",
    "    \n",
    "    return X_train, X_test"
   ]
  },
  {
   "cell_type": "code",
   "execution_count": 9,
   "metadata": {
    "collapsed": true
   },
   "outputs": [],
   "source": [
    "def normalize_dv(y_train):  \n",
    "    # Well use the natural log of sale price for our new DV since linear regression assumes normality\n",
    "    y_train = np.log(y_train)\n",
    "    \n",
    "    return y_train"
   ]
  },
  {
   "cell_type": "code",
   "execution_count": 10,
   "metadata": {
    "collapsed": true
   },
   "outputs": [],
   "source": [
    "def process_data(X_train, y_train, X_test, feat_eng=False, fill=True,\n",
    "                 norm_f=False, scale_f=False, c_to_c=True, norm_dv=False):\n",
    "    if feat_eng == True:\n",
    "        X_train, X_test = change_features(X_train, X_test)\n",
    "    \n",
    "    if fill == True:\n",
    "        X_train, X_test = fill_data(X_train, X_test)\n",
    "        \n",
    "    if norm_f == True:\n",
    "        X_train, X_test = normalize_features(X_train, X_test)\n",
    "    \n",
    "    if scale_f == True:\n",
    "        X_train, X_test = scale_features(X_train, X_test)\n",
    "        \n",
    "    if c_to_c == True:\n",
    "        X_train, X_test = cat_to_cont(X_train, X_test)\n",
    "        \n",
    "    if norm_dv == True:\n",
    "        y_train = normalize_dv(y_train)\n",
    "    \n",
    "    return X_train, y_train, X_test"
   ]
  },
  {
   "cell_type": "code",
   "execution_count": 11,
   "metadata": {
    "collapsed": true
   },
   "outputs": [],
   "source": [
    "# You can play with features here\n",
    "X_train, y_train, X_test = process_data(X_train, y_train, X_test, \n",
    "                                              feat_eng=True, norm_f=True, scale_f=True, norm_dv=True)"
   ]
  },
  {
   "cell_type": "code",
   "execution_count": 14,
   "metadata": {
    "collapsed": true
   },
   "outputs": [],
   "source": [
    "m = ensemble.GradientBoostingRegressor(n_estimators=200, max_depth=5)\n",
    "m.fit(X_train, y_train)\n",
    "pred_y = m.predict(X_test)\n",
    "prediction = np.exp(pred_y)"
   ]
  },
  {
   "cell_type": "code",
   "execution_count": 18,
   "metadata": {
    "collapsed": false
   },
   "outputs": [
    {
     "name": "stdout",
     "output_type": "stream",
     "text": [
      "Training:\n",
      "Mean squared error: 0.00\n",
      "Variance score: 1.00\n",
      "\n"
     ]
    },
    {
     "data": {
      "image/png": "[encoded data removed]",
      "text/plain": [
       "<matplotlib.figure.Figure at 0x115eedfd0>"
      ]
     },
     "metadata": {},
     "output_type": "display_data"
    }
   ],
   "source": [
    "pred_y_train = m.predict(X_train)\n",
    "\n",
    "\n",
    "print('Training:')\n",
    "# The mean squared error\n",
    "print(\"Mean squared error: %.2f\"\n",
    "    % np.mean((pred_y_train - y_train) ** 2))\n",
    "# Explained variance score: 1 is perfect prediction\n",
    "print('Variance score: %.2f' % m.score(X_train, y_train))\n",
    "print('')\n",
    "\n",
    "actual_train = np.exp(y_train)\n",
    "predicted_train = np.exp(pred_y_train)\n",
    "plt.scatter(actual_train, predicted_train)\n",
    "plt.plot(actual_train, actual_train, 'r')\n",
    "plt.show()"
   ]
  },
  {
   "cell_type": "code",
   "execution_count": 15,
   "metadata": {
    "collapsed": false
   },
   "outputs": [
    {
     "data": {
      "text/html": [
       "<div>\n",
       "<table border=\"1\" class=\"dataframe\">\n",
       "  <thead>\n",
       "    <tr style=\"text-align: right;\">\n",
       "      <th></th>\n",
       "      <th>Id</th>\n",
       "      <th>SalePrice</th>\n",
       "    </tr>\n",
       "  </thead>\n",
       "  <tbody>\n",
       "    <tr>\n",
       "      <th>0</th>\n",
       "      <td>1461</td>\n",
       "      <td>115484.962517</td>\n",
       "    </tr>\n",
       "    <tr>\n",
       "      <th>1</th>\n",
       "      <td>1462</td>\n",
       "      <td>150066.348247</td>\n",
       "    </tr>\n",
       "    <tr>\n",
       "      <th>2</th>\n",
       "      <td>1463</td>\n",
       "      <td>164982.266772</td>\n",
       "    </tr>\n",
       "    <tr>\n",
       "      <th>3</th>\n",
       "      <td>1464</td>\n",
       "      <td>185525.050732</td>\n",
       "    </tr>\n",
       "    <tr>\n",
       "      <th>4</th>\n",
       "      <td>1465</td>\n",
       "      <td>166195.497694</td>\n",
       "    </tr>\n",
       "  </tbody>\n",
       "</table>\n",
       "</div>"
      ],
      "text/plain": [
       "     Id      SalePrice\n",
       "0  1461  115484.962517\n",
       "1  1462  150066.348247\n",
       "2  1463  164982.266772\n",
       "3  1464  185525.050732\n",
       "4  1465  166195.497694"
      ]
     },
     "execution_count": 15,
     "metadata": {},
     "output_type": "execute_result"
    }
   ],
   "source": [
    "# DataFrame of Id and Predictions\n",
    "pred_df = pd.DataFrame(data={'Id': test_id, 'SalePrice': prediction})\n",
    "pred_df.head()"
   ]
  },
  {
   "cell_type": "code",
   "execution_count": 16,
   "metadata": {
    "collapsed": true
   },
   "outputs": [],
   "source": [
    "# Save solution file\n",
    "pred_df.to_csv('solution3.csv', index=False)"
   ]
  },
  {
   "cell_type": "code",
   "execution_count": null,
   "metadata": {
    "collapsed": true
   },
   "outputs": [],
   "source": []
  }
 ],
 "metadata": {
  "anaconda-cloud": {},
  "kernelspec": {
   "display_name": "Python [Root]",
   "language": "python",
   "name": "Python [Root]"
  },
  "language_info": {
   "codemirror_mode": {
    "name": "ipython",
    "version": 3
   },
   "file_extension": ".py",
   "mimetype": "text/x-python",
   "name": "python",
   "nbconvert_exporter": "python",
   "pygments_lexer": "ipython3",
   "version": "3.5.2"
  }
 },
 "nbformat": 4,
 "nbformat_minor": 0
}
